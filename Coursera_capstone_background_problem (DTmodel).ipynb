{
    "cells": [
        {
            "cell_type": "markdown",
            "metadata": {},
            "source": "# Car Accident Severity Analysis in Seattle "
        },
        {
            "cell_type": "markdown",
            "metadata": {
                "collapsed": true
            },
            "source": "# 1. Introduction/Business Problem"
        },
        {
            "cell_type": "markdown",
            "metadata": {},
            "source": "### 1-1. Background\n \nWhen you driving to another city, you may come across a terrible traffic jam on the high way, it may be an car accident due to bad weather such as rainy and windy. \nNow, wouldn't it be great if there is something in place that could warn you, given the weather and the road conditions about the possibility of you getting into a \ncar accident and how severe it would be, so that you would drive more carefully or even change your travel if you are able to. \n\n### 1-2. Business Problem\nThe business problem is to predict severity of an accident using relative varables such as weather and road condition, based on prediction score we can set up the warning system.  \nIf we could warn the severity level before driving the area to the people, people can paln to reduce or avoid to drive any high severity area.  "
        },
        {
            "cell_type": "markdown",
            "metadata": {},
            "source": "<i>End of Introduction and Business Problems"
        },
        {
            "cell_type": "markdown",
            "metadata": {},
            "source": "# 2. Data Understanding / Preparation"
        },
        {
            "cell_type": "markdown",
            "metadata": {},
            "source": "### 2-1. Data Source  \n\nThis data is provided in CSV format. \nData is came from SDOT Traffic Management Division, Traffic Records Group. \nProvided data is collision data from all years by traffic records.\nThis includes all types of collisions. \\\nCollisions will display at the intersection or mid-block of a segment. Timeframe: 2004 to Present.\n\n\n### 2-2. Data summary\n\nKey attribute information  \n\n|Attribute|Data type,length|Description|\n|:------|:---|:---| \n|SEVERITYCODE    |    int64  | A code that corresponds to the severity of the collision:|\n|                |           |    \u2022 3\u2014fatality|\n|                |           |    \u2022 2b\u2014serious injury|\n|                |           |    \u2022 2\u2014injury|\n|                |           |    \u2022 1\u2014prop damage|\n|                |           |    \u2022 0\u2014unknown|\n|OBJECTID           | int64  | ESRI unique identifier |\n|INCKEY             | int64  | A unique key for the incident |\n|COLDETKEY          | int64  | Secondary key for the incident| \n|ADDRTYPE           | object | Collision address type:|\n|                   |        |     \u2022 Alley|\n|                   |        |     \u2022 Block|\n|                   |        |     \u2022 Intersection|\n|INTKEY             |float64 | A unique key for the incident |\n|LOCATION           |object  | Description of the general location of the collision |\n|SEVERITYDESC       |object  | A detailed description of the severity of the collision|\n|PERSONCOUNT        |int64   | The total number of people involved in the collision |\n|VEHCOUNT           |Double  | The number of vehicles involved in the collision, This is entered by the state. |\n\n\n\\\n\\\n\n\n\nData contains 38 columns and 194673 rows.\\\ncheck missing data and any adjusment. cleansing data catains 187525 rows. \\\nI will extract data and review its relationship and impact level of severity. \\\nMain extracted data with key columns such as SEVERITYCODE\tADDRTYPE\tROADCOND\tLIGHTCOND\tWEATHER supposed to impact severitycode.\\\nadditionally PERSONCOUNT, VEHCOUNT will be added to dataset for split and test.\\\n\\\nreview data distribution between severitycode and each attibutes. \\\nAddrtype shows different trend on severitycode, it may impact the severity. \\\nROADCOND shows two attribute have impactful on severity."
        },
        {
            "cell_type": "markdown",
            "metadata": {},
            "source": "### 2-3. Data read & review "
        },
        {
            "cell_type": "code",
            "execution_count": 1,
            "metadata": {},
            "outputs": [],
            "source": "import pandas as pd\nimport numpy as np\nimport matplotlib.pyplot as plt"
        },
        {
            "cell_type": "code",
            "execution_count": 2,
            "metadata": {},
            "outputs": [],
            "source": "# CSV file tranfer \n!wget -o -- https://s3.us.cloud-object-storage.appdomain.cloud/cf-courses-data/CognitiveClass/DP0701EN/version-2/Data-Collisions.csv"
        },
        {
            "cell_type": "code",
            "execution_count": 3,
            "metadata": {},
            "outputs": [
                {
                    "name": "stderr",
                    "output_type": "stream",
                    "text": "/opt/conda/envs/Python36/lib/python3.6/site-packages/IPython/core/interactiveshell.py:3020: DtypeWarning: Columns (33) have mixed types. Specify dtype option on import or set low_memory=False.\n  interactivity=interactivity, compiler=compiler, result=result)\n"
                },
                {
                    "data": {
                        "text/html": "<div>\n<style scoped>\n    .dataframe tbody tr th:only-of-type {\n        vertical-align: middle;\n    }\n\n    .dataframe tbody tr th {\n        vertical-align: top;\n    }\n\n    .dataframe thead th {\n        text-align: right;\n    }\n</style>\n<table border=\"1\" class=\"dataframe\">\n  <thead>\n    <tr style=\"text-align: right;\">\n      <th></th>\n      <th>SEVERITYCODE</th>\n      <th>X</th>\n      <th>Y</th>\n      <th>OBJECTID</th>\n      <th>INCKEY</th>\n      <th>COLDETKEY</th>\n      <th>REPORTNO</th>\n      <th>STATUS</th>\n      <th>ADDRTYPE</th>\n      <th>INTKEY</th>\n      <th>...</th>\n      <th>ROADCOND</th>\n      <th>LIGHTCOND</th>\n      <th>PEDROWNOTGRNT</th>\n      <th>SDOTCOLNUM</th>\n      <th>SPEEDING</th>\n      <th>ST_COLCODE</th>\n      <th>ST_COLDESC</th>\n      <th>SEGLANEKEY</th>\n      <th>CROSSWALKKEY</th>\n      <th>HITPARKEDCAR</th>\n    </tr>\n  </thead>\n  <tbody>\n    <tr>\n      <th>0</th>\n      <td>2</td>\n      <td>-122.323148</td>\n      <td>47.703140</td>\n      <td>1</td>\n      <td>1307</td>\n      <td>1307</td>\n      <td>3502005</td>\n      <td>Matched</td>\n      <td>Intersection</td>\n      <td>37475.0</td>\n      <td>...</td>\n      <td>Wet</td>\n      <td>Daylight</td>\n      <td>NaN</td>\n      <td>NaN</td>\n      <td>NaN</td>\n      <td>10</td>\n      <td>Entering at angle</td>\n      <td>0</td>\n      <td>0</td>\n      <td>N</td>\n    </tr>\n    <tr>\n      <th>1</th>\n      <td>1</td>\n      <td>-122.347294</td>\n      <td>47.647172</td>\n      <td>2</td>\n      <td>52200</td>\n      <td>52200</td>\n      <td>2607959</td>\n      <td>Matched</td>\n      <td>Block</td>\n      <td>NaN</td>\n      <td>...</td>\n      <td>Wet</td>\n      <td>Dark - Street Lights On</td>\n      <td>NaN</td>\n      <td>6354039.0</td>\n      <td>NaN</td>\n      <td>11</td>\n      <td>From same direction - both going straight - bo...</td>\n      <td>0</td>\n      <td>0</td>\n      <td>N</td>\n    </tr>\n    <tr>\n      <th>2</th>\n      <td>1</td>\n      <td>-122.334540</td>\n      <td>47.607871</td>\n      <td>3</td>\n      <td>26700</td>\n      <td>26700</td>\n      <td>1482393</td>\n      <td>Matched</td>\n      <td>Block</td>\n      <td>NaN</td>\n      <td>...</td>\n      <td>Dry</td>\n      <td>Daylight</td>\n      <td>NaN</td>\n      <td>4323031.0</td>\n      <td>NaN</td>\n      <td>32</td>\n      <td>One parked--one moving</td>\n      <td>0</td>\n      <td>0</td>\n      <td>N</td>\n    </tr>\n    <tr>\n      <th>3</th>\n      <td>1</td>\n      <td>-122.334803</td>\n      <td>47.604803</td>\n      <td>4</td>\n      <td>1144</td>\n      <td>1144</td>\n      <td>3503937</td>\n      <td>Matched</td>\n      <td>Block</td>\n      <td>NaN</td>\n      <td>...</td>\n      <td>Dry</td>\n      <td>Daylight</td>\n      <td>NaN</td>\n      <td>NaN</td>\n      <td>NaN</td>\n      <td>23</td>\n      <td>From same direction - all others</td>\n      <td>0</td>\n      <td>0</td>\n      <td>N</td>\n    </tr>\n    <tr>\n      <th>4</th>\n      <td>2</td>\n      <td>-122.306426</td>\n      <td>47.545739</td>\n      <td>5</td>\n      <td>17700</td>\n      <td>17700</td>\n      <td>1807429</td>\n      <td>Matched</td>\n      <td>Intersection</td>\n      <td>34387.0</td>\n      <td>...</td>\n      <td>Wet</td>\n      <td>Daylight</td>\n      <td>NaN</td>\n      <td>4028032.0</td>\n      <td>NaN</td>\n      <td>10</td>\n      <td>Entering at angle</td>\n      <td>0</td>\n      <td>0</td>\n      <td>N</td>\n    </tr>\n  </tbody>\n</table>\n<p>5 rows \u00d7 38 columns</p>\n</div>",
                        "text/plain": "   SEVERITYCODE           X          Y  OBJECTID  INCKEY  COLDETKEY REPORTNO  \\\n0             2 -122.323148  47.703140         1    1307       1307  3502005   \n1             1 -122.347294  47.647172         2   52200      52200  2607959   \n2             1 -122.334540  47.607871         3   26700      26700  1482393   \n3             1 -122.334803  47.604803         4    1144       1144  3503937   \n4             2 -122.306426  47.545739         5   17700      17700  1807429   \n\n    STATUS      ADDRTYPE   INTKEY  ... ROADCOND                LIGHTCOND  \\\n0  Matched  Intersection  37475.0  ...      Wet                 Daylight   \n1  Matched         Block      NaN  ...      Wet  Dark - Street Lights On   \n2  Matched         Block      NaN  ...      Dry                 Daylight   \n3  Matched         Block      NaN  ...      Dry                 Daylight   \n4  Matched  Intersection  34387.0  ...      Wet                 Daylight   \n\n  PEDROWNOTGRNT  SDOTCOLNUM SPEEDING ST_COLCODE  \\\n0           NaN         NaN      NaN         10   \n1           NaN   6354039.0      NaN         11   \n2           NaN   4323031.0      NaN         32   \n3           NaN         NaN      NaN         23   \n4           NaN   4028032.0      NaN         10   \n\n                                          ST_COLDESC  SEGLANEKEY  \\\n0                                  Entering at angle           0   \n1  From same direction - both going straight - bo...           0   \n2                             One parked--one moving           0   \n3                   From same direction - all others           0   \n4                                  Entering at angle           0   \n\n   CROSSWALKKEY  HITPARKEDCAR  \n0             0             N  \n1             0             N  \n2             0             N  \n3             0             N  \n4             0             N  \n\n[5 rows x 38 columns]"
                    },
                    "execution_count": 3,
                    "metadata": {},
                    "output_type": "execute_result"
                }
            ],
            "source": "# data review \ndata = pd.read_csv('Data-Collisions.csv')\ndata.head()"
        },
        {
            "cell_type": "code",
            "execution_count": 4,
            "metadata": {},
            "outputs": [
                {
                    "data": {
                        "text/plain": "(194673, 38)"
                    },
                    "execution_count": 4,
                    "metadata": {},
                    "output_type": "execute_result"
                }
            ],
            "source": "data.shape \n# Data contains 38 columns and 194673 rows."
        },
        {
            "cell_type": "code",
            "execution_count": 5,
            "metadata": {},
            "outputs": [
                {
                    "data": {
                        "text/plain": "Index(['SEVERITYCODE', 'X', 'Y', 'OBJECTID', 'INCKEY', 'COLDETKEY', 'REPORTNO',\n       'STATUS', 'ADDRTYPE', 'INTKEY', 'LOCATION', 'EXCEPTRSNCODE',\n       'EXCEPTRSNDESC', 'SEVERITYCODE.1', 'SEVERITYDESC', 'COLLISIONTYPE',\n       'PERSONCOUNT', 'PEDCOUNT', 'PEDCYLCOUNT', 'VEHCOUNT', 'INCDATE',\n       'INCDTTM', 'JUNCTIONTYPE', 'SDOT_COLCODE', 'SDOT_COLDESC',\n       'INATTENTIONIND', 'UNDERINFL', 'WEATHER', 'ROADCOND', 'LIGHTCOND',\n       'PEDROWNOTGRNT', 'SDOTCOLNUM', 'SPEEDING', 'ST_COLCODE', 'ST_COLDESC',\n       'SEGLANEKEY', 'CROSSWALKKEY', 'HITPARKEDCAR'],\n      dtype='object')"
                    },
                    "execution_count": 5,
                    "metadata": {},
                    "output_type": "execute_result"
                }
            ],
            "source": "data.columns"
        },
        {
            "cell_type": "code",
            "execution_count": 6,
            "metadata": {},
            "outputs": [
                {
                    "data": {
                        "text/html": "<div>\n<style scoped>\n    .dataframe tbody tr th:only-of-type {\n        vertical-align: middle;\n    }\n\n    .dataframe tbody tr th {\n        vertical-align: top;\n    }\n\n    .dataframe thead th {\n        text-align: right;\n    }\n</style>\n<table border=\"1\" class=\"dataframe\">\n  <thead>\n    <tr style=\"text-align: right;\">\n      <th></th>\n      <th>SEVERITYCODE</th>\n      <th>X</th>\n      <th>Y</th>\n      <th>OBJECTID</th>\n      <th>INCKEY</th>\n      <th>COLDETKEY</th>\n      <th>INTKEY</th>\n      <th>SEVERITYCODE.1</th>\n      <th>PERSONCOUNT</th>\n      <th>PEDCOUNT</th>\n      <th>PEDCYLCOUNT</th>\n      <th>VEHCOUNT</th>\n      <th>SDOT_COLCODE</th>\n      <th>SDOTCOLNUM</th>\n      <th>SEGLANEKEY</th>\n      <th>CROSSWALKKEY</th>\n    </tr>\n  </thead>\n  <tbody>\n    <tr>\n      <th>count</th>\n      <td>194673.000000</td>\n      <td>189339.000000</td>\n      <td>189339.000000</td>\n      <td>194673.000000</td>\n      <td>194673.000000</td>\n      <td>194673.000000</td>\n      <td>65070.000000</td>\n      <td>194673.000000</td>\n      <td>194673.000000</td>\n      <td>194673.000000</td>\n      <td>194673.000000</td>\n      <td>194673.000000</td>\n      <td>194673.000000</td>\n      <td>1.149360e+05</td>\n      <td>194673.000000</td>\n      <td>1.946730e+05</td>\n    </tr>\n    <tr>\n      <th>mean</th>\n      <td>1.298901</td>\n      <td>-122.330518</td>\n      <td>47.619543</td>\n      <td>108479.364930</td>\n      <td>141091.456350</td>\n      <td>141298.811381</td>\n      <td>37558.450576</td>\n      <td>1.298901</td>\n      <td>2.444427</td>\n      <td>0.037139</td>\n      <td>0.028391</td>\n      <td>1.920780</td>\n      <td>13.867768</td>\n      <td>7.972521e+06</td>\n      <td>269.401114</td>\n      <td>9.782452e+03</td>\n    </tr>\n    <tr>\n      <th>std</th>\n      <td>0.457778</td>\n      <td>0.029976</td>\n      <td>0.056157</td>\n      <td>62649.722558</td>\n      <td>86634.402737</td>\n      <td>86986.542110</td>\n      <td>51745.990273</td>\n      <td>0.457778</td>\n      <td>1.345929</td>\n      <td>0.198150</td>\n      <td>0.167413</td>\n      <td>0.631047</td>\n      <td>6.868755</td>\n      <td>2.553533e+06</td>\n      <td>3315.776055</td>\n      <td>7.226926e+04</td>\n    </tr>\n    <tr>\n      <th>min</th>\n      <td>1.000000</td>\n      <td>-122.419091</td>\n      <td>47.495573</td>\n      <td>1.000000</td>\n      <td>1001.000000</td>\n      <td>1001.000000</td>\n      <td>23807.000000</td>\n      <td>1.000000</td>\n      <td>0.000000</td>\n      <td>0.000000</td>\n      <td>0.000000</td>\n      <td>0.000000</td>\n      <td>0.000000</td>\n      <td>1.007024e+06</td>\n      <td>0.000000</td>\n      <td>0.000000e+00</td>\n    </tr>\n    <tr>\n      <th>25%</th>\n      <td>1.000000</td>\n      <td>-122.348673</td>\n      <td>47.575956</td>\n      <td>54267.000000</td>\n      <td>70383.000000</td>\n      <td>70383.000000</td>\n      <td>28667.000000</td>\n      <td>1.000000</td>\n      <td>2.000000</td>\n      <td>0.000000</td>\n      <td>0.000000</td>\n      <td>2.000000</td>\n      <td>11.000000</td>\n      <td>6.040015e+06</td>\n      <td>0.000000</td>\n      <td>0.000000e+00</td>\n    </tr>\n    <tr>\n      <th>50%</th>\n      <td>1.000000</td>\n      <td>-122.330224</td>\n      <td>47.615369</td>\n      <td>106912.000000</td>\n      <td>123363.000000</td>\n      <td>123363.000000</td>\n      <td>29973.000000</td>\n      <td>1.000000</td>\n      <td>2.000000</td>\n      <td>0.000000</td>\n      <td>0.000000</td>\n      <td>2.000000</td>\n      <td>13.000000</td>\n      <td>8.023022e+06</td>\n      <td>0.000000</td>\n      <td>0.000000e+00</td>\n    </tr>\n    <tr>\n      <th>75%</th>\n      <td>2.000000</td>\n      <td>-122.311937</td>\n      <td>47.663664</td>\n      <td>162272.000000</td>\n      <td>203319.000000</td>\n      <td>203459.000000</td>\n      <td>33973.000000</td>\n      <td>2.000000</td>\n      <td>3.000000</td>\n      <td>0.000000</td>\n      <td>0.000000</td>\n      <td>2.000000</td>\n      <td>14.000000</td>\n      <td>1.015501e+07</td>\n      <td>0.000000</td>\n      <td>0.000000e+00</td>\n    </tr>\n    <tr>\n      <th>max</th>\n      <td>2.000000</td>\n      <td>-122.238949</td>\n      <td>47.734142</td>\n      <td>219547.000000</td>\n      <td>331454.000000</td>\n      <td>332954.000000</td>\n      <td>757580.000000</td>\n      <td>2.000000</td>\n      <td>81.000000</td>\n      <td>6.000000</td>\n      <td>2.000000</td>\n      <td>12.000000</td>\n      <td>69.000000</td>\n      <td>1.307202e+07</td>\n      <td>525241.000000</td>\n      <td>5.239700e+06</td>\n    </tr>\n  </tbody>\n</table>\n</div>",
                        "text/plain": "        SEVERITYCODE              X              Y       OBJECTID  \\\ncount  194673.000000  189339.000000  189339.000000  194673.000000   \nmean        1.298901    -122.330518      47.619543  108479.364930   \nstd         0.457778       0.029976       0.056157   62649.722558   \nmin         1.000000    -122.419091      47.495573       1.000000   \n25%         1.000000    -122.348673      47.575956   54267.000000   \n50%         1.000000    -122.330224      47.615369  106912.000000   \n75%         2.000000    -122.311937      47.663664  162272.000000   \nmax         2.000000    -122.238949      47.734142  219547.000000   \n\n              INCKEY      COLDETKEY         INTKEY  SEVERITYCODE.1  \\\ncount  194673.000000  194673.000000   65070.000000   194673.000000   \nmean   141091.456350  141298.811381   37558.450576        1.298901   \nstd     86634.402737   86986.542110   51745.990273        0.457778   \nmin      1001.000000    1001.000000   23807.000000        1.000000   \n25%     70383.000000   70383.000000   28667.000000        1.000000   \n50%    123363.000000  123363.000000   29973.000000        1.000000   \n75%    203319.000000  203459.000000   33973.000000        2.000000   \nmax    331454.000000  332954.000000  757580.000000        2.000000   \n\n         PERSONCOUNT       PEDCOUNT    PEDCYLCOUNT       VEHCOUNT  \\\ncount  194673.000000  194673.000000  194673.000000  194673.000000   \nmean        2.444427       0.037139       0.028391       1.920780   \nstd         1.345929       0.198150       0.167413       0.631047   \nmin         0.000000       0.000000       0.000000       0.000000   \n25%         2.000000       0.000000       0.000000       2.000000   \n50%         2.000000       0.000000       0.000000       2.000000   \n75%         3.000000       0.000000       0.000000       2.000000   \nmax        81.000000       6.000000       2.000000      12.000000   \n\n        SDOT_COLCODE    SDOTCOLNUM     SEGLANEKEY  CROSSWALKKEY  \ncount  194673.000000  1.149360e+05  194673.000000  1.946730e+05  \nmean       13.867768  7.972521e+06     269.401114  9.782452e+03  \nstd         6.868755  2.553533e+06    3315.776055  7.226926e+04  \nmin         0.000000  1.007024e+06       0.000000  0.000000e+00  \n25%        11.000000  6.040015e+06       0.000000  0.000000e+00  \n50%        13.000000  8.023022e+06       0.000000  0.000000e+00  \n75%        14.000000  1.015501e+07       0.000000  0.000000e+00  \nmax        69.000000  1.307202e+07  525241.000000  5.239700e+06  "
                    },
                    "execution_count": 6,
                    "metadata": {},
                    "output_type": "execute_result"
                }
            ],
            "source": "data.describe()"
        },
        {
            "cell_type": "code",
            "execution_count": 7,
            "metadata": {},
            "outputs": [
                {
                    "data": {
                        "text/plain": "SEVERITYCODE        int64\nX                 float64\nY                 float64\nOBJECTID            int64\nINCKEY              int64\nCOLDETKEY           int64\nREPORTNO           object\nSTATUS             object\nADDRTYPE           object\nINTKEY            float64\nLOCATION           object\nEXCEPTRSNCODE      object\nEXCEPTRSNDESC      object\nSEVERITYCODE.1      int64\nSEVERITYDESC       object\nCOLLISIONTYPE      object\nPERSONCOUNT         int64\nPEDCOUNT            int64\nPEDCYLCOUNT         int64\nVEHCOUNT            int64\nINCDATE            object\nINCDTTM            object\nJUNCTIONTYPE       object\nSDOT_COLCODE        int64\nSDOT_COLDESC       object\nINATTENTIONIND     object\nUNDERINFL          object\nWEATHER            object\nROADCOND           object\nLIGHTCOND          object\nPEDROWNOTGRNT      object\nSDOTCOLNUM        float64\nSPEEDING           object\nST_COLCODE         object\nST_COLDESC         object\nSEGLANEKEY          int64\nCROSSWALKKEY        int64\nHITPARKEDCAR       object\ndtype: object"
                    },
                    "execution_count": 7,
                    "metadata": {},
                    "output_type": "execute_result"
                }
            ],
            "source": "data.dtypes\n# key attribute to impact severity is mostly object such as ADDRTYPE, ROADCOND, LIGHTCOND, WEATHER."
        },
        {
            "cell_type": "code",
            "execution_count": 8,
            "metadata": {},
            "outputs": [
                {
                    "data": {
                        "text/html": "<div>\n<style scoped>\n    .dataframe tbody tr th:only-of-type {\n        vertical-align: middle;\n    }\n\n    .dataframe tbody tr th {\n        vertical-align: top;\n    }\n\n    .dataframe thead th {\n        text-align: right;\n    }\n</style>\n<table border=\"1\" class=\"dataframe\">\n  <thead>\n    <tr style=\"text-align: right;\">\n      <th></th>\n      <th>SEVERITYCODE</th>\n      <th>ADDRTYPE</th>\n      <th>ROADCOND</th>\n      <th>LIGHTCOND</th>\n      <th>WEATHER</th>\n      <th>PERSONCOUNT</th>\n      <th>VEHCOUNT</th>\n    </tr>\n  </thead>\n  <tbody>\n    <tr>\n      <th>0</th>\n      <td>2</td>\n      <td>Intersection</td>\n      <td>Wet</td>\n      <td>Daylight</td>\n      <td>Overcast</td>\n      <td>2</td>\n      <td>2</td>\n    </tr>\n    <tr>\n      <th>1</th>\n      <td>1</td>\n      <td>Block</td>\n      <td>Wet</td>\n      <td>Dark - Street Lights On</td>\n      <td>Raining</td>\n      <td>2</td>\n      <td>2</td>\n    </tr>\n    <tr>\n      <th>2</th>\n      <td>1</td>\n      <td>Block</td>\n      <td>Dry</td>\n      <td>Daylight</td>\n      <td>Overcast</td>\n      <td>4</td>\n      <td>3</td>\n    </tr>\n    <tr>\n      <th>3</th>\n      <td>1</td>\n      <td>Block</td>\n      <td>Dry</td>\n      <td>Daylight</td>\n      <td>Clear</td>\n      <td>3</td>\n      <td>3</td>\n    </tr>\n    <tr>\n      <th>4</th>\n      <td>2</td>\n      <td>Intersection</td>\n      <td>Wet</td>\n      <td>Daylight</td>\n      <td>Raining</td>\n      <td>2</td>\n      <td>2</td>\n    </tr>\n  </tbody>\n</table>\n</div>",
                        "text/plain": "   SEVERITYCODE      ADDRTYPE ROADCOND                LIGHTCOND   WEATHER  \\\n0             2  Intersection      Wet                 Daylight  Overcast   \n1             1         Block      Wet  Dark - Street Lights On   Raining   \n2             1         Block      Dry                 Daylight  Overcast   \n3             1         Block      Dry                 Daylight     Clear   \n4             2  Intersection      Wet                 Daylight   Raining   \n\n   PERSONCOUNT  VEHCOUNT  \n0            2         2  \n1            2         2  \n2            4         3  \n3            3         3  \n4            2         2  "
                    },
                    "execution_count": 8,
                    "metadata": {},
                    "output_type": "execute_result"
                }
            ],
            "source": "# extract relative data\ndf=data.loc[:,['SEVERITYCODE','ADDRTYPE','ROADCOND','LIGHTCOND','WEATHER','PERSONCOUNT','VEHCOUNT']]\ndf.head()"
        },
        {
            "cell_type": "code",
            "execution_count": 9,
            "metadata": {},
            "outputs": [],
            "source": "# Cleaning missing data \n# group by tables \n# check corelation of each items with severity code"
        },
        {
            "cell_type": "code",
            "execution_count": 10,
            "metadata": {},
            "outputs": [
                {
                    "data": {
                        "text/html": "<div>\n<style scoped>\n    .dataframe tbody tr th:only-of-type {\n        vertical-align: middle;\n    }\n\n    .dataframe tbody tr th {\n        vertical-align: top;\n    }\n\n    .dataframe thead th {\n        text-align: right;\n    }\n</style>\n<table border=\"1\" class=\"dataframe\">\n  <thead>\n    <tr style=\"text-align: right;\">\n      <th></th>\n      <th>SEVERITYCODE</th>\n      <th>ADDRTYPE</th>\n      <th>ROADCOND</th>\n      <th>LIGHTCOND</th>\n      <th>WEATHER</th>\n      <th>PERSONCOUNT</th>\n      <th>VEHCOUNT</th>\n    </tr>\n  </thead>\n  <tbody>\n    <tr>\n      <th>0</th>\n      <td>2</td>\n      <td>Intersection</td>\n      <td>Wet</td>\n      <td>Daylight</td>\n      <td>Overcast</td>\n      <td>2</td>\n      <td>2</td>\n    </tr>\n    <tr>\n      <th>1</th>\n      <td>1</td>\n      <td>Block</td>\n      <td>Wet</td>\n      <td>Dark - Street Lights On</td>\n      <td>Raining</td>\n      <td>2</td>\n      <td>2</td>\n    </tr>\n    <tr>\n      <th>2</th>\n      <td>1</td>\n      <td>Block</td>\n      <td>Dry</td>\n      <td>Daylight</td>\n      <td>Overcast</td>\n      <td>4</td>\n      <td>3</td>\n    </tr>\n    <tr>\n      <th>3</th>\n      <td>1</td>\n      <td>Block</td>\n      <td>Dry</td>\n      <td>Daylight</td>\n      <td>Clear</td>\n      <td>3</td>\n      <td>3</td>\n    </tr>\n    <tr>\n      <th>4</th>\n      <td>2</td>\n      <td>Intersection</td>\n      <td>Wet</td>\n      <td>Daylight</td>\n      <td>Raining</td>\n      <td>2</td>\n      <td>2</td>\n    </tr>\n  </tbody>\n</table>\n</div>",
                        "text/plain": "   SEVERITYCODE      ADDRTYPE ROADCOND                LIGHTCOND   WEATHER  \\\n0             2  Intersection      Wet                 Daylight  Overcast   \n1             1         Block      Wet  Dark - Street Lights On   Raining   \n2             1         Block      Dry                 Daylight  Overcast   \n3             1         Block      Dry                 Daylight     Clear   \n4             2  Intersection      Wet                 Daylight   Raining   \n\n   PERSONCOUNT  VEHCOUNT  \n0            2         2  \n1            2         2  \n2            4         3  \n3            3         3  \n4            2         2  "
                    },
                    "execution_count": 10,
                    "metadata": {},
                    "output_type": "execute_result"
                }
            ],
            "source": "df.dropna(axis=0, inplace=True)\ndf.head()"
        },
        {
            "cell_type": "code",
            "execution_count": 11,
            "metadata": {},
            "outputs": [
                {
                    "data": {
                        "text/plain": "(187525, 7)"
                    },
                    "execution_count": 11,
                    "metadata": {},
                    "output_type": "execute_result"
                }
            ],
            "source": "df.shape"
        },
        {
            "cell_type": "code",
            "execution_count": 12,
            "metadata": {},
            "outputs": [],
            "source": "# check the total frame of extracted data\n# df.groupby(['ADDRTYPE','ROADCOND','LIGHTCOND','WEATHER'])['SEVERITYCODE'].value_counts().to_frame()"
        },
        {
            "cell_type": "code",
            "execution_count": 13,
            "metadata": {},
            "outputs": [
                {
                    "data": {
                        "text/html": "<div>\n<style scoped>\n    .dataframe tbody tr th:only-of-type {\n        vertical-align: middle;\n    }\n\n    .dataframe tbody tr th {\n        vertical-align: top;\n    }\n\n    .dataframe thead th {\n        text-align: right;\n    }\n</style>\n<table border=\"1\" class=\"dataframe\">\n  <thead>\n    <tr style=\"text-align: right;\">\n      <th></th>\n      <th>ADDRTYPE</th>\n      <th>ROADCOND</th>\n      <th>LIGHTCOND</th>\n      <th>WEATHER</th>\n      <th>PERSONCOUNT</th>\n      <th>VEHCOUNT</th>\n    </tr>\n    <tr>\n      <th>SEVERITYCODE</th>\n      <th></th>\n      <th></th>\n      <th></th>\n      <th></th>\n      <th></th>\n      <th></th>\n    </tr>\n  </thead>\n  <tbody>\n    <tr>\n      <th>1</th>\n      <td>130642</td>\n      <td>130642</td>\n      <td>130642</td>\n      <td>130642</td>\n      <td>130642</td>\n      <td>130642</td>\n    </tr>\n    <tr>\n      <th>2</th>\n      <td>56883</td>\n      <td>56883</td>\n      <td>56883</td>\n      <td>56883</td>\n      <td>56883</td>\n      <td>56883</td>\n    </tr>\n  </tbody>\n</table>\n</div>",
                        "text/plain": "              ADDRTYPE  ROADCOND  LIGHTCOND  WEATHER  PERSONCOUNT  VEHCOUNT\nSEVERITYCODE                                                               \n1               130642    130642     130642   130642       130642    130642\n2                56883     56883      56883    56883        56883     56883"
                    },
                    "execution_count": 13,
                    "metadata": {},
                    "output_type": "execute_result"
                }
            ],
            "source": "# check the severity code group and the counts. \ndf_sev = df.groupby(['SEVERITYCODE'], as_index=True).count()\ndf_sev"
        },
        {
            "cell_type": "code",
            "execution_count": 14,
            "metadata": {},
            "outputs": [],
            "source": "# check the severity code with ADDRTYPE\n#Add=df.groupby(['SEVERITYCODE'])['ADDRTYPE'].value_counts().to_frame()\n#Add"
        },
        {
            "cell_type": "code",
            "execution_count": 15,
            "metadata": {},
            "outputs": [
                {
                    "data": {
                        "text/html": "<div>\n<style scoped>\n    .dataframe tbody tr th:only-of-type {\n        vertical-align: middle;\n    }\n\n    .dataframe tbody tr th {\n        vertical-align: top;\n    }\n\n    .dataframe thead th {\n        text-align: right;\n    }\n</style>\n<table border=\"1\" class=\"dataframe\">\n  <thead>\n    <tr style=\"text-align: right;\">\n      <th>ADDRTYPE</th>\n      <th>Alley</th>\n      <th>Block</th>\n      <th>Intersection</th>\n    </tr>\n    <tr>\n      <th>SEVERITYCODE</th>\n      <th></th>\n      <th></th>\n      <th></th>\n    </tr>\n  </thead>\n  <tbody>\n    <tr>\n      <th>1</th>\n      <td>662</td>\n      <td>93892</td>\n      <td>36088</td>\n    </tr>\n    <tr>\n      <th>2</th>\n      <td>80</td>\n      <td>29429</td>\n      <td>27374</td>\n    </tr>\n  </tbody>\n</table>\n</div>",
                        "text/plain": "ADDRTYPE      Alley  Block  Intersection\nSEVERITYCODE                            \n1               662  93892         36088\n2                80  29429         27374"
                    },
                    "execution_count": 15,
                    "metadata": {},
                    "output_type": "execute_result"
                }
            ],
            "source": "# different type of table \nAdd=df['SEVERITYCODE'].groupby([df['SEVERITYCODE'], df['ADDRTYPE']]).count()\nAdd.unstack()  # highly impact on the severity "
        },
        {
            "cell_type": "code",
            "execution_count": 16,
            "metadata": {},
            "outputs": [
                {
                    "data": {
                        "text/html": "<div>\n<style scoped>\n    .dataframe tbody tr th:only-of-type {\n        vertical-align: middle;\n    }\n\n    .dataframe tbody tr th {\n        vertical-align: top;\n    }\n\n    .dataframe thead th {\n        text-align: right;\n    }\n</style>\n<table border=\"1\" class=\"dataframe\">\n  <thead>\n    <tr style=\"text-align: right;\">\n      <th>ROADCOND</th>\n      <th>Dry</th>\n      <th>Ice</th>\n      <th>Oil</th>\n      <th>Other</th>\n      <th>Sand/Mud/Dirt</th>\n      <th>Snow/Slush</th>\n      <th>Standing Water</th>\n      <th>Unknown</th>\n      <th>Wet</th>\n    </tr>\n    <tr>\n      <th>SEVERITYCODE</th>\n      <th></th>\n      <th></th>\n      <th></th>\n      <th></th>\n      <th></th>\n      <th></th>\n      <th></th>\n      <th></th>\n      <th></th>\n    </tr>\n  </thead>\n  <tbody>\n    <tr>\n      <th>1</th>\n      <td>83835</td>\n      <td>923</td>\n      <td>40</td>\n      <td>82</td>\n      <td>51</td>\n      <td>827</td>\n      <td>82</td>\n      <td>13279</td>\n      <td>31523</td>\n    </tr>\n    <tr>\n      <th>2</th>\n      <td>39901</td>\n      <td>270</td>\n      <td>24</td>\n      <td>42</td>\n      <td>22</td>\n      <td>165</td>\n      <td>29</td>\n      <td>730</td>\n      <td>15700</td>\n    </tr>\n  </tbody>\n</table>\n</div>",
                        "text/plain": "ROADCOND        Dry  Ice  Oil  Other  Sand/Mud/Dirt  Snow/Slush  \\\nSEVERITYCODE                                                      \n1             83835  923   40     82             51         827   \n2             39901  270   24     42             22         165   \n\nROADCOND      Standing Water  Unknown    Wet  \nSEVERITYCODE                                  \n1                         82    13279  31523  \n2                         29      730  15700  "
                    },
                    "execution_count": 16,
                    "metadata": {},
                    "output_type": "execute_result"
                }
            ],
            "source": "# check the severity code with ROADCOND\nRoad=df['SEVERITYCODE'].groupby([df['SEVERITYCODE'], df['ROADCOND']]).count()\nRoad.unstack()   # less impact, ICE, Snow severity drive damange than injuriy. "
        },
        {
            "cell_type": "code",
            "execution_count": 17,
            "metadata": {},
            "outputs": [
                {
                    "data": {
                        "text/html": "<div>\n<style scoped>\n    .dataframe tbody tr th:only-of-type {\n        vertical-align: middle;\n    }\n\n    .dataframe tbody tr th {\n        vertical-align: top;\n    }\n\n    .dataframe thead th {\n        text-align: right;\n    }\n</style>\n<table border=\"1\" class=\"dataframe\">\n  <thead>\n    <tr style=\"text-align: right;\">\n      <th>LIGHTCOND</th>\n      <th>Dark - No Street Lights</th>\n      <th>Dark - Street Lights Off</th>\n      <th>Dark - Street Lights On</th>\n      <th>Dark - Unknown Lighting</th>\n      <th>Dawn</th>\n      <th>Daylight</th>\n      <th>Dusk</th>\n      <th>Other</th>\n      <th>Unknown</th>\n    </tr>\n    <tr>\n      <th>SEVERITYCODE</th>\n      <th></th>\n      <th></th>\n      <th></th>\n      <th></th>\n      <th></th>\n      <th></th>\n      <th></th>\n      <th></th>\n      <th></th>\n    </tr>\n  </thead>\n  <tbody>\n    <tr>\n      <th>1</th>\n      <td>1192</td>\n      <td>869</td>\n      <td>33816</td>\n      <td>7</td>\n      <td>1668</td>\n      <td>76998</td>\n      <td>3907</td>\n      <td>175</td>\n      <td>12010</td>\n    </tr>\n    <tr>\n      <th>2</th>\n      <td>334</td>\n      <td>315</td>\n      <td>14420</td>\n      <td>4</td>\n      <td>823</td>\n      <td>38410</td>\n      <td>1936</td>\n      <td>52</td>\n      <td>589</td>\n    </tr>\n  </tbody>\n</table>\n</div>",
                        "text/plain": "LIGHTCOND     Dark - No Street Lights  Dark - Street Lights Off  \\\nSEVERITYCODE                                                      \n1                                1192                       869   \n2                                 334                       315   \n\nLIGHTCOND     Dark - Street Lights On  Dark - Unknown Lighting  Dawn  \\\nSEVERITYCODE                                                           \n1                               33816                        7  1668   \n2                               14420                        4   823   \n\nLIGHTCOND     Daylight  Dusk  Other  Unknown  \nSEVERITYCODE                                  \n1                76998  3907    175    12010  \n2                38410  1936     52      589  "
                    },
                    "execution_count": 17,
                    "metadata": {},
                    "output_type": "execute_result"
                }
            ],
            "source": "# check the severity code with LIGHTCOND\nLight=df['SEVERITYCODE'].groupby([df['SEVERITYCODE'], df['LIGHTCOND']]).count()\nLight.unstack()   # less impact, dark no light more damange, Dawn, Daylight more injury "
        },
        {
            "cell_type": "code",
            "execution_count": 18,
            "metadata": {
                "scrolled": true
            },
            "outputs": [
                {
                    "data": {
                        "text/html": "<div>\n<style scoped>\n    .dataframe tbody tr th:only-of-type {\n        vertical-align: middle;\n    }\n\n    .dataframe tbody tr th {\n        vertical-align: top;\n    }\n\n    .dataframe thead th {\n        text-align: right;\n    }\n</style>\n<table border=\"1\" class=\"dataframe\">\n  <thead>\n    <tr style=\"text-align: right;\">\n      <th>WEATHER</th>\n      <th>Blowing Sand/Dirt</th>\n      <th>Clear</th>\n      <th>Fog/Smog/Smoke</th>\n      <th>Other</th>\n      <th>Overcast</th>\n      <th>Partly Cloudy</th>\n      <th>Raining</th>\n      <th>Severe Crosswind</th>\n      <th>Sleet/Hail/Freezing Rain</th>\n      <th>Snowing</th>\n      <th>Unknown</th>\n    </tr>\n    <tr>\n      <th>SEVERITYCODE</th>\n      <th></th>\n      <th></th>\n      <th></th>\n      <th></th>\n      <th></th>\n      <th></th>\n      <th></th>\n      <th></th>\n      <th></th>\n      <th></th>\n      <th></th>\n    </tr>\n  </thead>\n  <tbody>\n    <tr>\n      <th>1</th>\n      <td>36</td>\n      <td>74778</td>\n      <td>377</td>\n      <td>676</td>\n      <td>18836</td>\n      <td>2</td>\n      <td>21836</td>\n      <td>18</td>\n      <td>85</td>\n      <td>729</td>\n      <td>13269</td>\n    </tr>\n    <tr>\n      <th>2</th>\n      <td>13</td>\n      <td>35721</td>\n      <td>186</td>\n      <td>114</td>\n      <td>8715</td>\n      <td>3</td>\n      <td>11140</td>\n      <td>7</td>\n      <td>27</td>\n      <td>167</td>\n      <td>790</td>\n    </tr>\n  </tbody>\n</table>\n</div>",
                        "text/plain": "WEATHER       Blowing Sand/Dirt  Clear  Fog/Smog/Smoke  Other  Overcast  \\\nSEVERITYCODE                                                              \n1                            36  74778             377    676     18836   \n2                            13  35721             186    114      8715   \n\nWEATHER       Partly Cloudy  Raining  Severe Crosswind  \\\nSEVERITYCODE                                             \n1                         2    21836                18   \n2                         3    11140                 7   \n\nWEATHER       Sleet/Hail/Freezing Rain  Snowing  Unknown  \nSEVERITYCODE                                              \n1                                   85      729    13269  \n2                                   27      167      790  "
                    },
                    "execution_count": 18,
                    "metadata": {},
                    "output_type": "execute_result"
                }
            ],
            "source": "# check the severity code with WEATHER\nWea=df['SEVERITYCODE'].groupby([df['SEVERITYCODE'], df['WEATHER']]).count()\nWea.unstack()    # Snowing drives more damange, others are similar "
        },
        {
            "cell_type": "code",
            "execution_count": 19,
            "metadata": {},
            "outputs": [
                {
                    "data": {
                        "text/html": "<div>\n<style scoped>\n    .dataframe tbody tr th:only-of-type {\n        vertical-align: middle;\n    }\n\n    .dataframe tbody tr th {\n        vertical-align: top;\n    }\n\n    .dataframe thead th {\n        text-align: right;\n    }\n</style>\n<table border=\"1\" class=\"dataframe\">\n  <thead>\n    <tr style=\"text-align: right;\">\n      <th></th>\n      <th>SEVERITYCODE</th>\n      <th>PERSONCOUNT</th>\n      <th>VEHCOUNT</th>\n    </tr>\n    <tr>\n      <th>ADDRTYPE</th>\n      <th></th>\n      <th></th>\n      <th></th>\n    </tr>\n  </thead>\n  <tbody>\n    <tr>\n      <th>Alley</th>\n      <td>1.107817</td>\n      <td>1.905660</td>\n      <td>1.683288</td>\n    </tr>\n    <tr>\n      <th>Block</th>\n      <td>1.238637</td>\n      <td>2.403776</td>\n      <td>2.008644</td>\n    </tr>\n    <tr>\n      <th>Intersection</th>\n      <td>1.431345</td>\n      <td>2.586020</td>\n      <td>1.899578</td>\n    </tr>\n  </tbody>\n</table>\n</div>",
                        "text/plain": "              SEVERITYCODE  PERSONCOUNT  VEHCOUNT\nADDRTYPE                                         \nAlley             1.107817     1.905660  1.683288\nBlock             1.238637     2.403776  2.008644\nIntersection      1.431345     2.586020  1.899578"
                    },
                    "execution_count": 19,
                    "metadata": {},
                    "output_type": "execute_result"
                }
            ],
            "source": "# check the severity code group and the counts.  \ndf_sev = df.groupby(['ADDRTYPE'], as_index=True).mean()\ndf_sev   # ADDRTYPE looks highly related to severity in terms of person and veh, intersection has high severity, more people, middle veh"
        },
        {
            "cell_type": "code",
            "execution_count": 20,
            "metadata": {},
            "outputs": [
                {
                    "data": {
                        "text/html": "<div>\n<style scoped>\n    .dataframe tbody tr th:only-of-type {\n        vertical-align: middle;\n    }\n\n    .dataframe tbody tr th {\n        vertical-align: top;\n    }\n\n    .dataframe thead th {\n        text-align: right;\n    }\n</style>\n<table border=\"1\" class=\"dataframe\">\n  <thead>\n    <tr style=\"text-align: right;\">\n      <th></th>\n      <th>SEVERITYCODE</th>\n      <th>PERSONCOUNT</th>\n      <th>VEHCOUNT</th>\n    </tr>\n    <tr>\n      <th>ROADCOND</th>\n      <th></th>\n      <th></th>\n      <th></th>\n    </tr>\n  </thead>\n  <tbody>\n    <tr>\n      <th>Dry</th>\n      <td>1.322469</td>\n      <td>2.500517</td>\n      <td>1.978268</td>\n    </tr>\n    <tr>\n      <th>Ice</th>\n      <td>1.226320</td>\n      <td>2.214585</td>\n      <td>1.857502</td>\n    </tr>\n    <tr>\n      <th>Oil</th>\n      <td>1.375000</td>\n      <td>2.093750</td>\n      <td>1.718750</td>\n    </tr>\n    <tr>\n      <th>Other</th>\n      <td>1.338710</td>\n      <td>2.161290</td>\n      <td>1.766129</td>\n    </tr>\n    <tr>\n      <th>Sand/Mud/Dirt</th>\n      <td>1.301370</td>\n      <td>1.986301</td>\n      <td>1.630137</td>\n    </tr>\n    <tr>\n      <th>Snow/Slush</th>\n      <td>1.166331</td>\n      <td>2.406250</td>\n      <td>1.946573</td>\n    </tr>\n    <tr>\n      <th>Standing Water</th>\n      <td>1.261261</td>\n      <td>1.981982</td>\n      <td>1.639640</td>\n    </tr>\n    <tr>\n      <th>Unknown</th>\n      <td>1.052109</td>\n      <td>2.044400</td>\n      <td>1.976230</td>\n    </tr>\n    <tr>\n      <th>Wet</th>\n      <td>1.332465</td>\n      <td>2.501408</td>\n      <td>1.953773</td>\n    </tr>\n  </tbody>\n</table>\n</div>",
                        "text/plain": "                SEVERITYCODE  PERSONCOUNT  VEHCOUNT\nROADCOND                                           \nDry                 1.322469     2.500517  1.978268\nIce                 1.226320     2.214585  1.857502\nOil                 1.375000     2.093750  1.718750\nOther               1.338710     2.161290  1.766129\nSand/Mud/Dirt       1.301370     1.986301  1.630137\nSnow/Slush          1.166331     2.406250  1.946573\nStanding Water      1.261261     1.981982  1.639640\nUnknown             1.052109     2.044400  1.976230\nWet                 1.332465     2.501408  1.953773"
                    },
                    "execution_count": 20,
                    "metadata": {},
                    "output_type": "execute_result"
                }
            ],
            "source": "# check the severity code group and the counts. \ndf_Road = df.groupby(['ROADCOND'], as_index=True).mean()\ndf_Road  # road condition doesn't show much correlation among severity, person, veh"
        },
        {
            "cell_type": "code",
            "execution_count": 21,
            "metadata": {},
            "outputs": [
                {
                    "data": {
                        "text/html": "<div>\n<style scoped>\n    .dataframe tbody tr th:only-of-type {\n        vertical-align: middle;\n    }\n\n    .dataframe tbody tr th {\n        vertical-align: top;\n    }\n\n    .dataframe thead th {\n        text-align: right;\n    }\n</style>\n<table border=\"1\" class=\"dataframe\">\n  <thead>\n    <tr style=\"text-align: right;\">\n      <th></th>\n      <th>SEVERITYCODE</th>\n      <th>PERSONCOUNT</th>\n      <th>VEHCOUNT</th>\n    </tr>\n    <tr>\n      <th>LIGHTCOND</th>\n      <th></th>\n      <th></th>\n      <th></th>\n    </tr>\n  </thead>\n  <tbody>\n    <tr>\n      <th>Dark - No Street Lights</th>\n      <td>1.218873</td>\n      <td>2.217562</td>\n      <td>1.894495</td>\n    </tr>\n    <tr>\n      <th>Dark - Street Lights Off</th>\n      <td>1.266047</td>\n      <td>2.353041</td>\n      <td>1.923142</td>\n    </tr>\n    <tr>\n      <th>Dark - Street Lights On</th>\n      <td>1.298947</td>\n      <td>2.487022</td>\n      <td>1.937350</td>\n    </tr>\n    <tr>\n      <th>Dark - Unknown Lighting</th>\n      <td>1.363636</td>\n      <td>1.818182</td>\n      <td>1.454545</td>\n    </tr>\n    <tr>\n      <th>Dawn</th>\n      <td>1.330389</td>\n      <td>2.211160</td>\n      <td>1.892413</td>\n    </tr>\n    <tr>\n      <th>Daylight</th>\n      <td>1.332819</td>\n      <td>2.506655</td>\n      <td>1.986569</td>\n    </tr>\n    <tr>\n      <th>Dusk</th>\n      <td>1.331337</td>\n      <td>2.533117</td>\n      <td>1.967311</td>\n    </tr>\n    <tr>\n      <th>Other</th>\n      <td>1.229075</td>\n      <td>2.105727</td>\n      <td>1.885463</td>\n    </tr>\n    <tr>\n      <th>Unknown</th>\n      <td>1.046750</td>\n      <td>2.042622</td>\n      <td>1.981983</td>\n    </tr>\n  </tbody>\n</table>\n</div>",
                        "text/plain": "                          SEVERITYCODE  PERSONCOUNT  VEHCOUNT\nLIGHTCOND                                                    \nDark - No Street Lights       1.218873     2.217562  1.894495\nDark - Street Lights Off      1.266047     2.353041  1.923142\nDark - Street Lights On       1.298947     2.487022  1.937350\nDark - Unknown Lighting       1.363636     1.818182  1.454545\nDawn                          1.330389     2.211160  1.892413\nDaylight                      1.332819     2.506655  1.986569\nDusk                          1.331337     2.533117  1.967311\nOther                         1.229075     2.105727  1.885463\nUnknown                       1.046750     2.042622  1.981983"
                    },
                    "execution_count": 21,
                    "metadata": {},
                    "output_type": "execute_result"
                }
            ],
            "source": "# check the severity code group and the counts.  \ndf_Light = df.groupby(['LIGHTCOND'], as_index=True).mean()\ndf_Light   # Light doesn't show much correlation among severity, person, veh"
        },
        {
            "cell_type": "code",
            "execution_count": 22,
            "metadata": {},
            "outputs": [
                {
                    "data": {
                        "text/html": "<div>\n<style scoped>\n    .dataframe tbody tr th:only-of-type {\n        vertical-align: middle;\n    }\n\n    .dataframe tbody tr th {\n        vertical-align: top;\n    }\n\n    .dataframe thead th {\n        text-align: right;\n    }\n</style>\n<table border=\"1\" class=\"dataframe\">\n  <thead>\n    <tr style=\"text-align: right;\">\n      <th></th>\n      <th>SEVERITYCODE</th>\n      <th>PERSONCOUNT</th>\n      <th>VEHCOUNT</th>\n    </tr>\n    <tr>\n      <th>WEATHER</th>\n      <th></th>\n      <th></th>\n      <th></th>\n    </tr>\n  </thead>\n  <tbody>\n    <tr>\n      <th>Blowing Sand/Dirt</th>\n      <td>1.265306</td>\n      <td>2.285714</td>\n      <td>2.020408</td>\n    </tr>\n    <tr>\n      <th>Clear</th>\n      <td>1.323270</td>\n      <td>2.501253</td>\n      <td>1.977140</td>\n    </tr>\n    <tr>\n      <th>Fog/Smog/Smoke</th>\n      <td>1.330373</td>\n      <td>2.298401</td>\n      <td>1.896980</td>\n    </tr>\n    <tr>\n      <th>Other</th>\n      <td>1.144304</td>\n      <td>2.075949</td>\n      <td>1.954430</td>\n    </tr>\n    <tr>\n      <th>Overcast</th>\n      <td>1.316322</td>\n      <td>2.482487</td>\n      <td>1.966281</td>\n    </tr>\n    <tr>\n      <th>Partly Cloudy</th>\n      <td>1.600000</td>\n      <td>2.600000</td>\n      <td>2.000000</td>\n    </tr>\n    <tr>\n      <th>Raining</th>\n      <td>1.337821</td>\n      <td>2.514677</td>\n      <td>1.950722</td>\n    </tr>\n    <tr>\n      <th>Severe Crosswind</th>\n      <td>1.280000</td>\n      <td>2.200000</td>\n      <td>1.720000</td>\n    </tr>\n    <tr>\n      <th>Sleet/Hail/Freezing Rain</th>\n      <td>1.241071</td>\n      <td>2.410714</td>\n      <td>1.892857</td>\n    </tr>\n    <tr>\n      <th>Snowing</th>\n      <td>1.186384</td>\n      <td>2.361607</td>\n      <td>1.974330</td>\n    </tr>\n    <tr>\n      <th>Unknown</th>\n      <td>1.056192</td>\n      <td>2.045594</td>\n      <td>1.976741</td>\n    </tr>\n  </tbody>\n</table>\n</div>",
                        "text/plain": "                          SEVERITYCODE  PERSONCOUNT  VEHCOUNT\nWEATHER                                                      \nBlowing Sand/Dirt             1.265306     2.285714  2.020408\nClear                         1.323270     2.501253  1.977140\nFog/Smog/Smoke                1.330373     2.298401  1.896980\nOther                         1.144304     2.075949  1.954430\nOvercast                      1.316322     2.482487  1.966281\nPartly Cloudy                 1.600000     2.600000  2.000000\nRaining                       1.337821     2.514677  1.950722\nSevere Crosswind              1.280000     2.200000  1.720000\nSleet/Hail/Freezing Rain      1.241071     2.410714  1.892857\nSnowing                       1.186384     2.361607  1.974330\nUnknown                       1.056192     2.045594  1.976741"
                    },
                    "execution_count": 22,
                    "metadata": {},
                    "output_type": "execute_result"
                }
            ],
            "source": "# check the severity code group and the counts.  \ndf_Wea = df.groupby(['WEATHER'], as_index=True).mean()\ndf_Wea   # Weather shows some items lookes pretty algined "
        },
        {
            "cell_type": "code",
            "execution_count": 23,
            "metadata": {},
            "outputs": [
                {
                    "data": {
                        "text/html": "<div>\n<style scoped>\n    .dataframe tbody tr th:only-of-type {\n        vertical-align: middle;\n    }\n\n    .dataframe tbody tr th {\n        vertical-align: top;\n    }\n\n    .dataframe thead th {\n        text-align: right;\n    }\n</style>\n<table border=\"1\" class=\"dataframe\">\n  <thead>\n    <tr style=\"text-align: right;\">\n      <th></th>\n      <th>PERSONCOUNT</th>\n      <th>VEHCOUNT</th>\n    </tr>\n    <tr>\n      <th>SEVERITYCODE</th>\n      <th></th>\n      <th></th>\n    </tr>\n  </thead>\n  <tbody>\n    <tr>\n      <th>1</th>\n      <td>2.348311</td>\n      <td>2.000413</td>\n    </tr>\n    <tr>\n      <th>2</th>\n      <td>2.727986</td>\n      <td>1.901623</td>\n    </tr>\n  </tbody>\n</table>\n</div>",
                        "text/plain": "              PERSONCOUNT  VEHCOUNT\nSEVERITYCODE                       \n1                2.348311  2.000413\n2                2.727986  1.901623"
                    },
                    "execution_count": 23,
                    "metadata": {},
                    "output_type": "execute_result"
                }
            ],
            "source": "# check the severity code group and the counts.  \ndf_Others = df.groupby(['SEVERITYCODE'], as_index=True).mean()\ndf_Others  # person is impacted to severity code. "
        },
        {
            "cell_type": "markdown",
            "metadata": {},
            "source": "<i> End of Data Understanding"
        },
        {
            "cell_type": "markdown",
            "metadata": {},
            "source": "## 3. Data Pre Processing "
        },
        {
            "cell_type": "code",
            "execution_count": 48,
            "metadata": {},
            "outputs": [],
            "source": "# change dependent variables into string type \n# I decided to use Decision Trees, the dependent variables 'SEVERITYCODE' should be in string type\n\ndf.SEVERITYCODE = df.SEVERITYCODE.astype(str) "
        },
        {
            "cell_type": "code",
            "execution_count": 25,
            "metadata": {},
            "outputs": [
                {
                    "data": {
                        "text/plain": "array([['Intersection', 'Wet', 'Daylight', 'Overcast', 2, 2],\n       ['Block', 'Wet', 'Dark - Street Lights On', 'Raining', 2, 2],\n       ['Block', 'Dry', 'Daylight', 'Overcast', 4, 3],\n       ['Block', 'Dry', 'Daylight', 'Clear', 3, 3],\n       ['Intersection', 'Wet', 'Daylight', 'Raining', 2, 2]], dtype=object)"
                    },
                    "execution_count": 25,
                    "metadata": {},
                    "output_type": "execute_result"
                }
            ],
            "source": "X = df[['ADDRTYPE','ROADCOND','LIGHTCOND','WEATHER','PERSONCOUNT','VEHCOUNT']].values\nX[0:5]"
        },
        {
            "cell_type": "code",
            "execution_count": 26,
            "metadata": {},
            "outputs": [],
            "source": "# from text value from each attribute covert to numeric value \n\nfrom sklearn import preprocessing\n\nle_ADD = preprocessing.LabelEncoder()\nle_ADD.fit(['Alley','Block','Intersection'])\nX[:,0] = le_ADD.transform(X[:,0])\n\nle_ROAD = preprocessing.LabelEncoder()\nle_ROAD.fit([ 'Dry','Ice','Oil','Other','Sand/Mud/Dirt','Snow/Slush','Standing Water','Unknown','Wet'])\nX[:,1] = le_ROAD.transform(X[:,1])\n\nle_LIGHT = preprocessing.LabelEncoder()\nle_LIGHT.fit([ 'Dark - No Street Lights', 'Dark - Street Lights Off','Dark - Street Lights On','Dark - Unknown Lighting','Dawn','Daylight','Dusk','Other','Unknown'])\nX[:,2] = le_LIGHT.transform(X[:,2]) \n\nle_WEA = preprocessing.LabelEncoder()\nle_WEA.fit([ 'Blowing Sand/Dirt','Clear','Fog/Smog/Smoke','Other','Overcast','Partly Cloudy','Raining','Severe Crosswind','Sleet/Hail/Freezing Rain','Snowing','Unknown'])\nX[:,3] = le_WEA.transform(X[:,3]) "
        },
        {
            "cell_type": "code",
            "execution_count": 27,
            "metadata": {},
            "outputs": [
                {
                    "data": {
                        "text/plain": "array([[2, 8, 5, 4, 2, 2],\n       [1, 8, 2, 6, 2, 2],\n       [1, 0, 5, 4, 4, 3],\n       [1, 0, 5, 1, 3, 3],\n       [2, 8, 5, 6, 2, 2]], dtype=object)"
                    },
                    "execution_count": 27,
                    "metadata": {},
                    "output_type": "execute_result"
                }
            ],
            "source": "X[0:5]"
        },
        {
            "cell_type": "code",
            "execution_count": 28,
            "metadata": {},
            "outputs": [
                {
                    "data": {
                        "text/plain": "0    2\n1    1\n2    1\n3    1\n4    2\nName: SEVERITYCODE, dtype: object"
                    },
                    "execution_count": 28,
                    "metadata": {},
                    "output_type": "execute_result"
                }
            ],
            "source": "y = df[\"SEVERITYCODE\"]\ny[0:5]"
        },
        {
            "cell_type": "code",
            "execution_count": 29,
            "metadata": {},
            "outputs": [],
            "source": "# the selection of attribute need to be reviewed and its consequences \n# scenario 1 : Mixture of 'ADDRTYPE','ROADCOND','LIGHTCOND','WEATHER' => No significant outcome, all potential possibility is severitycode 1, not well predicted\n# scenario 2 : Mixture of single independent attribute => Beside 'ADDRTYIPE', other attributes have no significant impact on severity. \n# scenario 3 : Mixture of other attiribute 'JUNCTIONTYPE', 'Location' added to scenario 1, but not significant impact on severity. \n# scenario 4 : Mixture of numeric value 'PERSONCOUNT','VEHCOUNT' in scenario 1 => showing severity impact. although it is the the result of severity, need to see the consequence of other attribute.\n# let's try scenario 4"
        },
        {
            "cell_type": "markdown",
            "metadata": {},
            "source": "## 4. Setting up the Model "
        },
        {
            "cell_type": "markdown",
            "metadata": {},
            "source": "### 4-1. Set training model "
        },
        {
            "cell_type": "code",
            "execution_count": 30,
            "metadata": {
                "scrolled": true
            },
            "outputs": [
                {
                    "data": {
                        "text/plain": "(array([[1, 0, 5, 1, 5, 2],\n        [2, 0, 5, 1, 4, 3],\n        [1, 0, 5, 1, 2, 2],\n        ...,\n        [1, 8, 2, 6, 2, 2],\n        [1, 0, 5, 1, 2, 2],\n        [1, 0, 5, 1, 2, 2]], dtype=object), (131267,))"
                    },
                    "execution_count": 30,
                    "metadata": {},
                    "output_type": "execute_result"
                }
            ],
            "source": "from sklearn.tree import DecisionTreeClassifier\nfrom sklearn.model_selection import train_test_split\n\nX_trainset, X_testset, y_trainset, y_testset = train_test_split(X, y, test_size=0.3, random_state=3)\nX_trainset, y_trainset.shape\n\n# setting training model "
        },
        {
            "cell_type": "code",
            "execution_count": 31,
            "metadata": {},
            "outputs": [
                {
                    "data": {
                        "text/plain": "(array([[2, 8, 2, 6, 0, 2],\n        [2, 0, 5, 4, 2, 2],\n        [1, 0, 2, 4, 2, 2],\n        ...,\n        [1, 8, 2, 6, 4, 2],\n        [1, 7, 8, 10, 2, 2],\n        [1, 0, 2, 1, 1, 1]], dtype=object), (56258,))"
                    },
                    "execution_count": 31,
                    "metadata": {},
                    "output_type": "execute_result"
                }
            ],
            "source": "X_testset, y_testset.shape"
        },
        {
            "cell_type": "markdown",
            "metadata": {},
            "source": "### 4-2. Modeling : Decision Tree "
        },
        {
            "cell_type": "code",
            "execution_count": 32,
            "metadata": {},
            "outputs": [
                {
                    "data": {
                        "text/plain": "DecisionTreeClassifier(class_weight=None, criterion='entropy', max_depth=5,\n            max_features=None, max_leaf_nodes=None,\n            min_impurity_decrease=0.0, min_impurity_split=None,\n            min_samples_leaf=1, min_samples_split=2,\n            min_weight_fraction_leaf=0.0, presort=False, random_state=None,\n            splitter='best')"
                    },
                    "execution_count": 32,
                    "metadata": {},
                    "output_type": "execute_result"
                }
            ],
            "source": "SeverityTree = DecisionTreeClassifier(criterion=\"entropy\", max_depth = 5)\nSeverityTree\n\n# compare to depth 4 and 5, 4 doen't much defind the condition of attribute, so I choose depth 5. "
        },
        {
            "cell_type": "code",
            "execution_count": 33,
            "metadata": {},
            "outputs": [
                {
                    "data": {
                        "text/plain": "DecisionTreeClassifier(class_weight=None, criterion='entropy', max_depth=5,\n            max_features=None, max_leaf_nodes=None,\n            min_impurity_decrease=0.0, min_impurity_split=None,\n            min_samples_leaf=1, min_samples_split=2,\n            min_weight_fraction_leaf=0.0, presort=False, random_state=None,\n            splitter='best')"
                    },
                    "execution_count": 33,
                    "metadata": {},
                    "output_type": "execute_result"
                }
            ],
            "source": "SeverityTree.fit(X_trainset,y_trainset)"
        },
        {
            "cell_type": "markdown",
            "metadata": {},
            "source": "### 4-3. Prediction"
        },
        {
            "cell_type": "code",
            "execution_count": 34,
            "metadata": {},
            "outputs": [],
            "source": "predTree = SeverityTree.predict(X_testset)"
        },
        {
            "cell_type": "code",
            "execution_count": 35,
            "metadata": {},
            "outputs": [
                {
                    "name": "stdout",
                    "output_type": "stream",
                    "text": "['1' '1' '1' '1' '1']\n164594    1\n28396     1\n48450     1\n142897    1\n85344     2\nName: SEVERITYCODE, dtype: object\n"
                }
            ],
            "source": "print (predTree [0:5])\nprint (y_testset [0:5])"
        },
        {
            "cell_type": "markdown",
            "metadata": {},
            "source": "### 4-4. Evaluation"
        },
        {
            "cell_type": "code",
            "execution_count": 36,
            "metadata": {},
            "outputs": [
                {
                    "name": "stdout",
                    "output_type": "stream",
                    "text": "DecisionTrees's Accuracy:  0.7419922499911124\n"
                }
            ],
            "source": "from sklearn import metrics\nimport matplotlib.pyplot as plt\nprint(\"DecisionTrees's Accuracy: \", metrics.accuracy_score(y_testset, predTree))"
        },
        {
            "cell_type": "code",
            "execution_count": 37,
            "metadata": {},
            "outputs": [
                {
                    "name": "stdout",
                    "output_type": "stream",
                    "text": "DT Jaccard index: 0.74\nDT F1-score: 0.70\n"
                }
            ],
            "source": "from sklearn.metrics import jaccard_similarity_score\nfrom sklearn.metrics import f1_score\n\nprint(\"DT Jaccard index: %.2f\" % jaccard_similarity_score(y_testset, predTree))\nprint(\"DT F1-score: %.2f\" % f1_score(y_testset, predTree, average='weighted') )"
        },
        {
            "cell_type": "markdown",
            "metadata": {},
            "source": "### 4-5. Visualization"
        },
        {
            "cell_type": "code",
            "execution_count": 38,
            "metadata": {},
            "outputs": [
                {
                    "ename": "ModuleNotFoundError",
                    "evalue": "No module named 'pydotplus'",
                    "output_type": "error",
                    "traceback": [
                        "\u001b[0;31m---------------------------------------------------------------------------\u001b[0m",
                        "\u001b[0;31mModuleNotFoundError\u001b[0m                       Traceback (most recent call last)",
                        "\u001b[0;32m<ipython-input-38-e08bea59f846>\u001b[0m in \u001b[0;36m<module>\u001b[0;34m\u001b[0m\n\u001b[1;32m      1\u001b[0m \u001b[0;32mfrom\u001b[0m \u001b[0msklearn\u001b[0m\u001b[0;34m.\u001b[0m\u001b[0mexternals\u001b[0m\u001b[0;34m.\u001b[0m\u001b[0msix\u001b[0m \u001b[0;32mimport\u001b[0m \u001b[0mStringIO\u001b[0m\u001b[0;34m\u001b[0m\u001b[0;34m\u001b[0m\u001b[0m\n\u001b[0;32m----> 2\u001b[0;31m \u001b[0;32mimport\u001b[0m \u001b[0mpydotplus\u001b[0m\u001b[0;34m\u001b[0m\u001b[0;34m\u001b[0m\u001b[0m\n\u001b[0m\u001b[1;32m      3\u001b[0m \u001b[0;32mimport\u001b[0m \u001b[0mmatplotlib\u001b[0m\u001b[0;34m.\u001b[0m\u001b[0mimage\u001b[0m \u001b[0;32mas\u001b[0m \u001b[0mmpimg\u001b[0m\u001b[0;34m\u001b[0m\u001b[0;34m\u001b[0m\u001b[0m\n\u001b[1;32m      4\u001b[0m \u001b[0;32mfrom\u001b[0m \u001b[0msklearn\u001b[0m \u001b[0;32mimport\u001b[0m \u001b[0mtree\u001b[0m\u001b[0;34m\u001b[0m\u001b[0;34m\u001b[0m\u001b[0m\n\u001b[1;32m      5\u001b[0m \u001b[0mget_ipython\u001b[0m\u001b[0;34m(\u001b[0m\u001b[0;34m)\u001b[0m\u001b[0;34m.\u001b[0m\u001b[0mrun_line_magic\u001b[0m\u001b[0;34m(\u001b[0m\u001b[0;34m'matplotlib'\u001b[0m\u001b[0;34m,\u001b[0m \u001b[0;34m'inline '\u001b[0m\u001b[0;34m)\u001b[0m\u001b[0;34m\u001b[0m\u001b[0;34m\u001b[0m\u001b[0m\n",
                        "\u001b[0;31mModuleNotFoundError\u001b[0m: No module named 'pydotplus'"
                    ]
                }
            ],
            "source": "from sklearn.externals.six import StringIO\nimport pydotplus\nimport matplotlib.image as mpimg\nfrom sklearn import tree\n%matplotlib inline "
        },
        {
            "cell_type": "code",
            "execution_count": null,
            "metadata": {},
            "outputs": [],
            "source": "dot_data = StringIO()\nfilename = \"severitytree.png\"\nfeatureNames = df.columns[1:7]\ntargetNames = df[\"SEVERITYCODE\"].unique().tolist()\nout=tree.export_graphviz(SeverityTree,feature_names=featureNames, out_file=dot_data, class_names= np.unique(y_trainset), filled=True,  special_characters=True,rotate=False)  \ngraph = pydotplus.graph_from_dot_data(dot_data.getvalue())  \ngraph.write_png(filename)\nimg = mpimg.imread(filename)\nplt.figure(figsize=(100, 200))\nplt.imshow(img,interpolation='nearest')"
        },
        {
            "cell_type": "markdown",
            "metadata": {},
            "source": "## 5. Insight "
        },
        {
            "cell_type": "markdown",
            "metadata": {},
            "source": "- Severity is decided mainly from the number of vehicles involved in the collision and The total number of people involved in the collision\n- Impacted Number of peope, Number of Vehicle are depend on Addtype, Light and Weather. \\\n   For example, the situation in Alley or Block, in Dark time, under Smog or Cloudy weather are highly predicted severity 2. \n   \n   \n- Based on those two factors, we define the condition of 4 attribute, ADDRTYPE, LIGHTCOND, WEATHER, ROADCOND\n- ADDRTYPE is highly related to severity level, Weather and Roadcondition have less impact \n"
        },
        {
            "cell_type": "markdown",
            "metadata": {},
            "source": "<i>End of analysis "
        },
        {
            "cell_type": "code",
            "execution_count": null,
            "metadata": {},
            "outputs": [],
            "source": ""
        }
    ],
    "metadata": {
        "kernelspec": {
            "display_name": "Python 3.6",
            "language": "python",
            "name": "python3"
        },
        "language_info": {
            "codemirror_mode": {
                "name": "ipython",
                "version": 3
            },
            "file_extension": ".py",
            "mimetype": "text/x-python",
            "name": "python",
            "nbconvert_exporter": "python",
            "pygments_lexer": "ipython3",
            "version": "3.6.9"
        }
    },
    "nbformat": 4,
    "nbformat_minor": 1
}